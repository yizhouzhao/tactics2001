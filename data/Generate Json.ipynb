{
 "cells": [
  {
   "cell_type": "code",
   "execution_count": 1,
   "metadata": {},
   "outputs": [],
   "source": [
    "import pandas as pd"
   ]
  },
  {
   "cell_type": "code",
   "execution_count": 2,
   "metadata": {},
   "outputs": [],
   "source": [
    "data = pd.read_csv(\"book.csv\")"
   ]
  },
  {
   "cell_type": "code",
   "execution_count": 3,
   "metadata": {
    "scrolled": true
   },
   "outputs": [
    {
     "data": {
      "text/html": [
       "<div>\n",
       "<style scoped>\n",
       "    .dataframe tbody tr th:only-of-type {\n",
       "        vertical-align: middle;\n",
       "    }\n",
       "\n",
       "    .dataframe tbody tr th {\n",
       "        vertical-align: top;\n",
       "    }\n",
       "\n",
       "    .dataframe thead th {\n",
       "        text-align: right;\n",
       "    }\n",
       "</style>\n",
       "<table border=\"1\" class=\"dataframe\">\n",
       "  <thead>\n",
       "    <tr style=\"text-align: right;\">\n",
       "      <th></th>\n",
       "      <th>no</th>\n",
       "      <th>player1</th>\n",
       "      <th>player2</th>\n",
       "      <th>place</th>\n",
       "      <th>year</th>\n",
       "      <th>class</th>\n",
       "      <th>strategy</th>\n",
       "      <th>move</th>\n",
       "      <th>result</th>\n",
       "      <th>piece</th>\n",
       "      <th>part</th>\n",
       "      <th>FEN</th>\n",
       "      <th>PGN</th>\n",
       "    </tr>\n",
       "  </thead>\n",
       "  <tbody>\n",
       "    <tr>\n",
       "      <th>0</th>\n",
       "      <td>427</td>\n",
       "      <td>SCHIMID</td>\n",
       "      <td>HOCHENBERGER</td>\n",
       "      <td>BRD</td>\n",
       "      <td>1965</td>\n",
       "      <td>I</td>\n",
       "      <td>g</td>\n",
       "      <td>1.?</td>\n",
       "      <td>1-0</td>\n",
       "      <td>B</td>\n",
       "      <td>C</td>\n",
       "      <td>1qr2rk1/1p1b1ppp/pBnbp3/P5P1/1n2BP1P/1NN2Q2/1P...</td>\n",
       "      <td>[Event \"?\"]\\n[Site \"?\"]\\n[Date \"????.??.??\"]\\n...</td>\n",
       "    </tr>\n",
       "    <tr>\n",
       "      <th>1</th>\n",
       "      <td>428</td>\n",
       "      <td>LUKIN</td>\n",
       "      <td>T.CIORGADZE</td>\n",
       "      <td>SSSR</td>\n",
       "      <td>1967</td>\n",
       "      <td>I</td>\n",
       "      <td>d</td>\n",
       "      <td>1.?</td>\n",
       "      <td>1-0</td>\n",
       "      <td>B</td>\n",
       "      <td>C</td>\n",
       "      <td>1k1qbb1r/1p3p1p/p3pP1p/3pN3/3P4/2RB2P1/PP3P1P/...</td>\n",
       "      <td>[Event \"?\"]\\n[Site \"?\"]\\n[Date \"????.??.??\"]\\n...</td>\n",
       "    </tr>\n",
       "    <tr>\n",
       "      <th>2</th>\n",
       "      <td>429</td>\n",
       "      <td>SAVOSIN</td>\n",
       "      <td>KUZNECOV</td>\n",
       "      <td>SSSR</td>\n",
       "      <td>1975</td>\n",
       "      <td>I</td>\n",
       "      <td>h</td>\n",
       "      <td>1.?</td>\n",
       "      <td>1-0</td>\n",
       "      <td>B</td>\n",
       "      <td>C</td>\n",
       "      <td>r1b1r1k1/1p1n1p2/p1nBp1p1/q2pP1Np/P7/R2B3Q/2P2...</td>\n",
       "      <td>[Event \"?\"]\\n[Site \"?\"]\\n[Date \"????.??.??\"]\\n...</td>\n",
       "    </tr>\n",
       "    <tr>\n",
       "      <th>3</th>\n",
       "      <td>430</td>\n",
       "      <td>TRINGOV</td>\n",
       "      <td>HURME</td>\n",
       "      <td>Malta(ol)</td>\n",
       "      <td>1980</td>\n",
       "      <td>I</td>\n",
       "      <td>g</td>\n",
       "      <td>1...?</td>\n",
       "      <td>0-1</td>\n",
       "      <td>B</td>\n",
       "      <td>C</td>\n",
       "      <td>4r1rk/pb2pqbp/1p1p4/5p2/2P2n2/1N2BP2/PPQ3PP/1B...</td>\n",
       "      <td>[Event \"?\"]\\n[Site \"?\"]\\n[Date \"????.??.??\"]\\n...</td>\n",
       "    </tr>\n",
       "    <tr>\n",
       "      <th>4</th>\n",
       "      <td>431</td>\n",
       "      <td>EDOCS</td>\n",
       "      <td>SEMKOV</td>\n",
       "      <td>CSSR</td>\n",
       "      <td>1980</td>\n",
       "      <td>I</td>\n",
       "      <td>d</td>\n",
       "      <td>1...?</td>\n",
       "      <td>0-1</td>\n",
       "      <td>B</td>\n",
       "      <td>C</td>\n",
       "      <td>1r4k1/5pp1/qr2p2p/N3Pn2/Q7/2P1b1B1/P5PP/K2R1R2...</td>\n",
       "      <td>[Event \"?\"]\\n[Site \"?\"]\\n[Date \"????.??.??\"]\\n...</td>\n",
       "    </tr>\n",
       "  </tbody>\n",
       "</table>\n",
       "</div>"
      ],
      "text/plain": [
       "    no  player1       player2      place  year class strategy   move result  \\\n",
       "0  427  SCHIMID  HOCHENBERGER        BRD  1965     I        g    1.?    1-0   \n",
       "1  428    LUKIN   T.CIORGADZE       SSSR  1967     I        d    1.?    1-0   \n",
       "2  429  SAVOSIN      KUZNECOV       SSSR  1975     I        h    1.?    1-0   \n",
       "3  430  TRINGOV         HURME  Malta(ol)  1980     I        g  1...?    0-1   \n",
       "4  431    EDOCS        SEMKOV       CSSR  1980     I        d  1...?    0-1   \n",
       "\n",
       "  piece part                                                FEN  \\\n",
       "0     B    C  1qr2rk1/1p1b1ppp/pBnbp3/P5P1/1n2BP1P/1NN2Q2/1P...   \n",
       "1     B    C  1k1qbb1r/1p3p1p/p3pP1p/3pN3/3P4/2RB2P1/PP3P1P/...   \n",
       "2     B    C  r1b1r1k1/1p1n1p2/p1nBp1p1/q2pP1Np/P7/R2B3Q/2P2...   \n",
       "3     B    C  4r1rk/pb2pqbp/1p1p4/5p2/2P2n2/1N2BP2/PPQ3PP/1B...   \n",
       "4     B    C  1r4k1/5pp1/qr2p2p/N3Pn2/Q7/2P1b1B1/P5PP/K2R1R2...   \n",
       "\n",
       "                                                 PGN  \n",
       "0  [Event \"?\"]\\n[Site \"?\"]\\n[Date \"????.??.??\"]\\n...  \n",
       "1  [Event \"?\"]\\n[Site \"?\"]\\n[Date \"????.??.??\"]\\n...  \n",
       "2  [Event \"?\"]\\n[Site \"?\"]\\n[Date \"????.??.??\"]\\n...  \n",
       "3  [Event \"?\"]\\n[Site \"?\"]\\n[Date \"????.??.??\"]\\n...  \n",
       "4  [Event \"?\"]\\n[Site \"?\"]\\n[Date \"????.??.??\"]\\n...  "
      ]
     },
     "execution_count": 3,
     "metadata": {},
     "output_type": "execute_result"
    }
   ],
   "source": [
    "data.head()"
   ]
  },
  {
   "cell_type": "code",
   "execution_count": 4,
   "metadata": {},
   "outputs": [
    {
     "name": "stdout",
     "output_type": "stream",
     "text": [
      "{'no': 427, 'player1': 'SCHIMID', 'player2': 'HOCHENBERGER', 'place': 'BRD', 'year': 1965, 'class': 'I', 'strategy': 'g', 'move': '1.?', 'result': '1-0', 'piece': 'B', 'part': 'C', 'FEN': '1qr2rk1/1p1b1ppp/pBnbp3/P5P1/1n2BP1P/1NN2Q2/1PP5/1K1R2R1 w - - 0 1', 'PGN': '[Event \"?\"]\\n[Site \"?\"]\\n[Date \"????.??.??\"]\\n[Round \"?\"]\\n[White \"?\"]\\n[Black \"?\"]\\n[Result \"*\"]\\n[SetUp \"1\"]\\n[FEN \"1qr2rk1/1p1b1ppp/pBnbp3/P5P1/1n2BP1P/1NN2Q2/1PP5/1K1R2R1 w - - 0 1\"]\\n\\n1. Bxh7+ Kxh7 2. Ne4 +- (2. Ne4 Be7 3. Nf6+ gxf6 4. Qh5+ Kg8 5. gxf6#) (2. Ne4\\nNd5 3. Rxd5!) (2. Qh5+ Kg8 3. Ne4 Rfd8 4. g6!!) *'}\n"
     ]
    }
   ],
   "source": [
    "print(data.to_dict('records')[0])"
   ]
  },
  {
   "cell_type": "code",
   "execution_count": 5,
   "metadata": {},
   "outputs": [],
   "source": [
    "data_dict =  data.to_dict('records')"
   ]
  },
  {
   "cell_type": "code",
   "execution_count": 6,
   "metadata": {},
   "outputs": [],
   "source": [
    "for item in data_dict:\n",
    "    item['description'] = \"{} {} {} {} {} {} {} {} {}\".format(item['no'],item['player1'],item['player2'],item['place'],\n",
    "                                                          item['year'],item['class'],item['strategy'],item['move'],\n",
    "                                                          \"+-\" if item['result'] == \"1-0\" else \"-+\"\n",
    "                                                         )\n",
    "    item['solution'] = item[\"PGN\"].split(\"\\n\\n\")[-1]\n",
    "    item['solution'] = item['solution'].replace(\"\\n\",\" \")"
   ]
  },
  {
   "cell_type": "code",
   "execution_count": 7,
   "metadata": {},
   "outputs": [],
   "source": [
    "#item"
   ]
  },
  {
   "cell_type": "code",
   "execution_count": 8,
   "metadata": {},
   "outputs": [],
   "source": [
    "import json"
   ]
  },
  {
   "cell_type": "code",
   "execution_count": 9,
   "metadata": {},
   "outputs": [],
   "source": [
    "with open('book.js', 'w') as fp:\n",
    "    json.dump(data_dict, fp)"
   ]
  },
  {
   "cell_type": "code",
   "execution_count": 10,
   "metadata": {},
   "outputs": [],
   "source": [
    "def line_prepender(filename, line):\n",
    "    with open(filename, 'r+') as f:\n",
    "        content = f.read()\n",
    "        f.seek(0, 0)\n",
    "        f.write(line.rstrip('\\r\\n') + '\\n' + content)"
   ]
  },
  {
   "cell_type": "code",
   "execution_count": 11,
   "metadata": {},
   "outputs": [],
   "source": [
    "line_prepender(\"book.js\",\"var book =\")"
   ]
  },
  {
   "cell_type": "code",
   "execution_count": null,
   "metadata": {},
   "outputs": [],
   "source": []
  }
 ],
 "metadata": {
  "kernelspec": {
   "display_name": "Python 3",
   "language": "python",
   "name": "python3"
  },
  "language_info": {
   "codemirror_mode": {
    "name": "ipython",
    "version": 3
   },
   "file_extension": ".py",
   "mimetype": "text/x-python",
   "name": "python",
   "nbconvert_exporter": "python",
   "pygments_lexer": "ipython3",
   "version": "3.7.6"
  }
 },
 "nbformat": 4,
 "nbformat_minor": 4
}
