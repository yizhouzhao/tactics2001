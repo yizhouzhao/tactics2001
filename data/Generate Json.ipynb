{
 "cells": [
  {
   "cell_type": "code",
   "execution_count": 1,
   "metadata": {},
   "outputs": [],
   "source": [
    "import pandas as pd"
   ]
  },
  {
   "cell_type": "code",
   "execution_count": 2,
   "metadata": {},
   "outputs": [],
   "source": [
    "data = pd.read_csv(\"book.csv\")"
   ]
  },
  {
   "cell_type": "code",
   "execution_count": 3,
   "metadata": {
    "scrolled": true
   },
   "outputs": [
    {
     "data": {
      "text/html": [
       "<div>\n",
       "<style scoped>\n",
       "    .dataframe tbody tr th:only-of-type {\n",
       "        vertical-align: middle;\n",
       "    }\n",
       "\n",
       "    .dataframe tbody tr th {\n",
       "        vertical-align: top;\n",
       "    }\n",
       "\n",
       "    .dataframe thead th {\n",
       "        text-align: right;\n",
       "    }\n",
       "</style>\n",
       "<table border=\"1\" class=\"dataframe\">\n",
       "  <thead>\n",
       "    <tr style=\"text-align: right;\">\n",
       "      <th></th>\n",
       "      <th>no</th>\n",
       "      <th>player1</th>\n",
       "      <th>player2</th>\n",
       "      <th>place</th>\n",
       "      <th>year</th>\n",
       "      <th>class</th>\n",
       "      <th>strategy</th>\n",
       "      <th>move</th>\n",
       "      <th>result</th>\n",
       "      <th>piece</th>\n",
       "      <th>part</th>\n",
       "      <th>FEN</th>\n",
       "      <th>PGN</th>\n",
       "    </tr>\n",
       "  </thead>\n",
       "  <tbody>\n",
       "    <tr>\n",
       "      <th>0</th>\n",
       "      <td>441</td>\n",
       "      <td>LISICYN</td>\n",
       "      <td>RAGOZIN</td>\n",
       "      <td>SSSR(ch)</td>\n",
       "      <td>1934</td>\n",
       "      <td>I</td>\n",
       "      <td>g</td>\n",
       "      <td>1.?</td>\n",
       "      <td>1-0</td>\n",
       "      <td>B</td>\n",
       "      <td>C</td>\n",
       "      <td>r2qr1k1/1pnb1pp1/p1n1p2p/8/P2P3P/B2B1NP1/6P1/R...</td>\n",
       "      <td>[Event \"?\"]\\n[Site \"?\"]\\n[Date \"????.??.??\"]\\n...</td>\n",
       "    </tr>\n",
       "    <tr>\n",
       "      <th>1</th>\n",
       "      <td>442</td>\n",
       "      <td>HOLMOV</td>\n",
       "      <td>PANOV</td>\n",
       "      <td>Vilnius</td>\n",
       "      <td>1953</td>\n",
       "      <td>I</td>\n",
       "      <td>d</td>\n",
       "      <td>1.?</td>\n",
       "      <td>1-0</td>\n",
       "      <td>B</td>\n",
       "      <td>C</td>\n",
       "      <td>3q2k1/r2b2pp/3Pp3/1p1nPp2/1RpN4/2P2Q1P/2B2PP1/...</td>\n",
       "      <td>[Event \"?\"]\\n[Site \"?\"]\\n[Date \"????.??.??\"]\\n...</td>\n",
       "    </tr>\n",
       "    <tr>\n",
       "      <th>2</th>\n",
       "      <td>443</td>\n",
       "      <td>VOSKANIAN</td>\n",
       "      <td>HODOS</td>\n",
       "      <td>SSSR</td>\n",
       "      <td>1964</td>\n",
       "      <td>I</td>\n",
       "      <td>h</td>\n",
       "      <td>1.?</td>\n",
       "      <td>1-0</td>\n",
       "      <td>B</td>\n",
       "      <td>C</td>\n",
       "      <td>r1b2rk1/1pqp1ppp/p1n1pn2/5N2/8/2PBB3/P1P2PPP/R...</td>\n",
       "      <td>[Event \"?\"]\\n[Site \"?\"]\\n[Date \"????.??.??\"]\\n...</td>\n",
       "    </tr>\n",
       "  </tbody>\n",
       "</table>\n",
       "</div>"
      ],
      "text/plain": [
       "    no    player1  player2     place  year class strategy move result piece  \\\n",
       "0  441    LISICYN  RAGOZIN  SSSR(ch)  1934     I        g  1.?    1-0     B   \n",
       "1  442     HOLMOV    PANOV   Vilnius  1953     I        d  1.?    1-0     B   \n",
       "2  443  VOSKANIAN    HODOS      SSSR  1964     I        h  1.?    1-0     B   \n",
       "\n",
       "  part                                                FEN  \\\n",
       "0    C  r2qr1k1/1pnb1pp1/p1n1p2p/8/P2P3P/B2B1NP1/6P1/R...   \n",
       "1    C  3q2k1/r2b2pp/3Pp3/1p1nPp2/1RpN4/2P2Q1P/2B2PP1/...   \n",
       "2    C  r1b2rk1/1pqp1ppp/p1n1pn2/5N2/8/2PBB3/P1P2PPP/R...   \n",
       "\n",
       "                                                 PGN  \n",
       "0  [Event \"?\"]\\n[Site \"?\"]\\n[Date \"????.??.??\"]\\n...  \n",
       "1  [Event \"?\"]\\n[Site \"?\"]\\n[Date \"????.??.??\"]\\n...  \n",
       "2  [Event \"?\"]\\n[Site \"?\"]\\n[Date \"????.??.??\"]\\n...  "
      ]
     },
     "execution_count": 3,
     "metadata": {},
     "output_type": "execute_result"
    }
   ],
   "source": [
    "data.head()"
   ]
  },
  {
   "cell_type": "code",
   "execution_count": 4,
   "metadata": {},
   "outputs": [
    {
     "name": "stdout",
     "output_type": "stream",
     "text": [
      "{'no': 441, 'player1': 'LISICYN', 'player2': 'RAGOZIN', 'place': 'SSSR(ch)', 'year': 1934, 'class': 'I', 'strategy': 'g', 'move': '1.?', 'result': '1-0', 'piece': 'B', 'part': 'C', 'FEN': 'r2qr1k1/1pnb1pp1/p1n1p2p/8/P2P3P/B2B1NP1/6P1/R2Q1RK1 w - - 0 1', 'PGN': '[Event \"?\"]\\n[Site \"?\"]\\n[Date \"????.??.??\"]\\n[Round \"?\"]\\n[White \"?\"]\\n[Black \"?\"]\\n[Result \"*\"]\\n[SetUp \"1\"]\\n[FEN \"r2qr1k1/1pnb1pp1/p1n1p2p/8/P2P3P/B2B1NP1/6P1/R2Q1RK1 w - - 0 1\"]\\n\\n1. Bh7+! Kxh7 2. Ng5+! Kg8 3. Nxf7 Qb8 4. Nxh6+ gxh6 5. Qg4+ Kh8 6. Rf7! Rg8 7.\\nQh5 *'}\n"
     ]
    }
   ],
   "source": [
    "print(data.to_dict('records')[0])"
   ]
  },
  {
   "cell_type": "code",
   "execution_count": 5,
   "metadata": {},
   "outputs": [],
   "source": [
    "data_dict =  data.to_dict('records')"
   ]
  },
  {
   "cell_type": "code",
   "execution_count": 6,
   "metadata": {},
   "outputs": [],
   "source": [
    "for item in data_dict:\n",
    "    item['description'] = \"{} {} {} {} {} {} {} {} {}\".format(item['no'],item['player1'],item['player2'],item['place'],\n",
    "                                                          item['year'],item['class'],item['strategy'],item['move'],\n",
    "                                                          \"+-\" if item['result'] == \"1-0\" else \"-+\"\n",
    "                                                         )\n",
    "    item['solution'] = item[\"PGN\"].split(\"\\n\\n\")[-1]\n",
    "    item['solution'] = item['solution'].replace(\"\\n\",\" \")"
   ]
  },
  {
   "cell_type": "code",
   "execution_count": 7,
   "metadata": {},
   "outputs": [],
   "source": [
    "#item"
   ]
  },
  {
   "cell_type": "code",
   "execution_count": 8,
   "metadata": {},
   "outputs": [],
   "source": [
    "import json"
   ]
  },
  {
   "cell_type": "code",
   "execution_count": 9,
   "metadata": {},
   "outputs": [],
   "source": [
    "with open('book.js', 'w') as fp:\n",
    "    json.dump(data_dict, fp)"
   ]
  },
  {
   "cell_type": "code",
   "execution_count": 10,
   "metadata": {},
   "outputs": [],
   "source": [
    "def line_prepender(filename, line):\n",
    "    with open(filename, 'r+') as f:\n",
    "        content = f.read()\n",
    "        f.seek(0, 0)\n",
    "        f.write(line.rstrip('\\r\\n') + '\\n' + content)"
   ]
  },
  {
   "cell_type": "code",
   "execution_count": 11,
   "metadata": {},
   "outputs": [],
   "source": [
    "line_prepender(\"book.js\",\"var book =\")"
   ]
  },
  {
   "cell_type": "code",
   "execution_count": null,
   "metadata": {},
   "outputs": [],
   "source": []
  }
 ],
 "metadata": {
  "kernelspec": {
   "display_name": "Python 3",
   "language": "python",
   "name": "python3"
  },
  "language_info": {
   "codemirror_mode": {
    "name": "ipython",
    "version": 3
   },
   "file_extension": ".py",
   "mimetype": "text/x-python",
   "name": "python",
   "nbconvert_exporter": "python",
   "pygments_lexer": "ipython3",
   "version": "3.7.6"
  }
 },
 "nbformat": 4,
 "nbformat_minor": 4
}
